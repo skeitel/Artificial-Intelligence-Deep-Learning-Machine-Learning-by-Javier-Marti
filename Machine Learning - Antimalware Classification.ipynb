{
 "cells": [
  {
   "cell_type": "code",
   "execution_count": 12,
   "metadata": {},
   "outputs": [
    {
     "name": "stdout",
     "output_type": "stream",
     "text": [
      "Researching important feature based on 54 total features\n",
      "\n"
     ]
    },
    {
     "name": "stderr",
     "output_type": "stream",
     "text": [
      "D:\\Program files\\Anaconda\\lib\\site-packages\\sklearn\\ensemble\\forest.py:245: FutureWarning: The default value of n_estimators will change from 10 in version 0.20 to 100 in 0.22.\n",
      "  \"10 in version 0.20 to 100 in 0.22.\", FutureWarning)\n"
     ]
    },
    {
     "name": "stdout",
     "output_type": "stream",
     "text": [
      "\n",
      "11 features identified as important:\n",
      "1. feature DllCharacteristics (0.225751)\n",
      "2. feature SectionsMaxEntropy (0.075424)\n",
      "3. feature Subsystem (0.074557)\n",
      "4. feature Machine (0.068546)\n",
      "5. feature MajorSubsystemVersion (0.066613)\n",
      "6. feature Characteristics (0.066214)\n",
      "7. feature ResourcesMaxEntropy (0.066202)\n",
      "8. feature SizeOfOptionalHeader (0.060112)\n",
      "9. feature VersionInformationSize (0.049440)\n",
      "10. feature MajorOperatingSystemVersion (0.033555)\n",
      "11. feature ImageBase (0.026292)\n",
      "Now testing algorithms...\n",
      "DecisionTree : 99.029337 %\n",
      "RandomForest : 99.340819 %\n",
      "\n",
      "Winner algorithm is RandomForest with a 99.340819 % success\n"
     ]
    }
   ],
   "source": [
    "#Machine learning / Anti-malware using Decision Tree classifier\n",
    "#Source: https://www.youtube.com/watch?v=Kf9VD1os_pY&list=PL2iM-fIRjbTBFazzQ5uEzeASpmP8o40y1&index=58\n",
    "\n",
    "import pandas as pd\n",
    "import numpy as np\n",
    "import pickle\n",
    "import sklearn.ensemble as ske\n",
    "from sklearn import tree, linear_model\n",
    "from sklearn.model_selection import train_test_split\n",
    "from sklearn.feature_selection import SelectFromModel\n",
    "from sklearn.externals import joblib\n",
    "\n",
    "#importing the dataset\n",
    "data = pd.read_csv('https://raw.githubusercontent.com/akky2892/Machine-Learning-The-future/master/Anti-Malware%20Using%20Machine%20Learning/data.csv', sep = '|')\n",
    "X = data.drop(['Name', 'md5', 'legitimate'], axis = 1).values\n",
    "y = data['legitimate'].values\n",
    "\n",
    "\n",
    "print('Researching important feature based on %i total features\\n' % X.shape[1])\n",
    "\n",
    "#Feature seelction using Trees Classifier\n",
    "fsel = ske.ExtraTreesClassifier().fit(X, y)\n",
    "model = SelectFromModel(fsel, prefit = True)\n",
    "X_new = model.transform(X)\n",
    "nb_features = X_new.shape[1]\n",
    "\n",
    "#Splitting the dataset into the Training and Test set\n",
    "X_train, X_test, y_train, y_test = train_test_split(X_new, y, test_size = 0.2)\n",
    "\n",
    "features = []\n",
    "\n",
    "\n",
    "print('\\n%i features identified as important:' % nb_features)\n",
    "\n",
    "indices = np.argsort(fsel.feature_importances_)[::-1][:nb_features]\n",
    "\n",
    "for f in range(nb_features):\n",
    "    print(\"%d. feature %s (%f)\" % (f + 1, data.columns[2+indices[f]], fsel.feature_importances_[indices[f]]))\n",
    "\n",
    "for f in sorted(np.argsort(fsel.feature_importances_)[::-1][:nb_features]):\n",
    "    features.append(data.columns[2+f])\n",
    "    \n",
    "#Algorithm comparison\n",
    "algorithms = {\n",
    "    'DecisionTree': tree.DecisionTreeClassifier(max_depth = 10), \n",
    "    'RandomForest': ske.RandomForestClassifier(n_estimators = 50)\n",
    "}\n",
    "\n",
    "results = {}\n",
    "print('Now testing algorithms...')\n",
    "\n",
    "#Fitting Classification algorithms to the training set\n",
    "for algo in algorithms:\n",
    "    clf = algorithms[algo]\n",
    "    clf.fit(X_train, y_train)\n",
    "    score = clf.score(X_test, y_test)\n",
    "    print(\"%s : %f %%\" % (algo, score*100))\n",
    "    results[algo] = score\n",
    "    \n",
    "winner = max(results, key = results.get)\n",
    "\n",
    "print('\\nWinner algorithm is %s with a %f %% success' % (winner, results[winner]*100))\n",
    "\n",
    "# #Save the algorithm and the feature list for later predictions\n",
    "# print('Saving the algorithm and feature list in classifier directory...')\n",
    "\n",
    "# joblib.dump(algorithms[winner], 'classifier/classifier.pkl')\n",
    "# open('classifier/features.pkl', 'w').write(pickle.dump(features))\n",
    "# print('Saved')\n",
    "\n",
    "#Predicting the test set results\n",
    "y_pred = clf.predict(X_test)\n",
    "\n",
    "#Making the confusion matrix\n",
    "from sklearn.metrics import confusion_matrix\n",
    "cm = confusion_matrix(y_test, y_pred)\n"
   ]
  }
 ],
 "metadata": {
  "kernelspec": {
   "display_name": "Python 3",
   "language": "python",
   "name": "python3"
  },
  "language_info": {
   "codemirror_mode": {
    "name": "ipython",
    "version": 3
   },
   "file_extension": ".py",
   "mimetype": "text/x-python",
   "name": "python",
   "nbconvert_exporter": "python",
   "pygments_lexer": "ipython3",
   "version": "3.6.8"
  }
 },
 "nbformat": 4,
 "nbformat_minor": 2
}
