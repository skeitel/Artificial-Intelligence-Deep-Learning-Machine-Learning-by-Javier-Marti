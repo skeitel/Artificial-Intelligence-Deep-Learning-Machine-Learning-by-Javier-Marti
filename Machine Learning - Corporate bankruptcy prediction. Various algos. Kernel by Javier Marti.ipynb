{
 "cells": [
  {
   "cell_type": "markdown",
   "metadata": {},
   "source": [
    "# Which companies will go bankrupt? We use 7 Machine Learning models to find out, working with a dataset of 7000 Polish companies"
   ]
  },
  {
   "cell_type": "markdown",
   "metadata": {},
   "source": [
    "![image of business](https://www.indiafilings.com/learn/wp-content/uploads/2017/11/Business-Loss-Carry-Forward.jpg)"
   ]
  },
  {
   "cell_type": "markdown",
   "metadata": {},
   "source": [
    "##### In today's rather bleak landscape, companies, lenders, and investors have undertaken considerable amounts of research to look into how they can use statistical models to proactively monitor and predict the likelihood of bankruptcy.\n",
    "\n",
    "By taking data - such as gross margin, debt to assets, and cash flow - and plugging it into programs to process the information, financial analysts have been able to create parametric and non-parametric models for assessing risk. These rather traditional models allow companies to determine whether they should continue working with certain partners, vendors, or clients. Banks and other lenders also use these insights to assess whether an organisation is a suitable candidate for a commercial loan, while investors can decide if they are going to buy or sell stock in a company.\n",
    "\n",
    "However, while hugely valuable, these models require extensive analysis which is not only time consuming but also the source of inaccuracies. With the ability to process and analyse large amounts of data quickly, recognise patterns and form intelligent decisions, could artificial intelligence (AI) and machine learning provide a better alternative? "
   ]
  },
  {
   "cell_type": "markdown",
   "metadata": {},
   "source": [
    "### Given the right data, we could accurately predict bankruptcies years ahead of an event occurring - a task which would have been nearly impossible by manually reviewing the data and using traditional statistical methods.\n",
    "Machine learning can uncover hidden patterns in this data and give businesses the insight they need, allowing an organisation to move from saying from ‘I think' to ‘I know'"
   ]
  },
  {
   "cell_type": "code",
   "execution_count": 1,
   "metadata": {},
   "outputs": [],
   "source": [
    "#We start our study by importing the required libraries and graphic interfaces\n",
    "import pandas as pd\n",
    "import numpy as np\n",
    "%matplotlib inline\n",
    "import matplotlib.pyplot as plt"
   ]
  },
  {
   "cell_type": "code",
   "execution_count": 2,
   "metadata": {},
   "outputs": [
    {
     "data": {
      "text/html": [
       "<div>\n",
       "<style scoped>\n",
       "    .dataframe tbody tr th:only-of-type {\n",
       "        vertical-align: middle;\n",
       "    }\n",
       "\n",
       "    .dataframe tbody tr th {\n",
       "        vertical-align: top;\n",
       "    }\n",
       "\n",
       "    .dataframe thead th {\n",
       "        text-align: right;\n",
       "    }\n",
       "</style>\n",
       "<table border=\"1\" class=\"dataframe\">\n",
       "  <thead>\n",
       "    <tr style=\"text-align: right;\">\n",
       "      <th></th>\n",
       "      <th>X1 net profit / total assets</th>\n",
       "      <th>X2 total liabilities / total assets</th>\n",
       "      <th>X3 working capital / total assets</th>\n",
       "      <th>X4 current assets / short-term liabilities</th>\n",
       "      <th>X5 [(cash + short-term securities + receivables - short-term liabilities) / (operating expenses - depreciation)] * 365</th>\n",
       "      <th>X6 retained earnings / total assets</th>\n",
       "      <th>X7 EBIT / total assets</th>\n",
       "      <th>X8 book value of equity / total liabilities</th>\n",
       "      <th>X9 sales / total assets</th>\n",
       "      <th>X10 equity / total assets</th>\n",
       "      <th>...</th>\n",
       "      <th>X56 (sales - cost of products sold) / sales</th>\n",
       "      <th>X57 (current assets - inventory - short-term liabilities) / (sales - gross profit - depreciation)</th>\n",
       "      <th>X58 total costs /total sales</th>\n",
       "      <th>X59 long-term liabilities / equity</th>\n",
       "      <th>X60 sales / inventory</th>\n",
       "      <th>X61 sales / receivables</th>\n",
       "      <th>X62 (short-term liabilities *365) / sales</th>\n",
       "      <th>X63 sales / short-term liabilities</th>\n",
       "      <th>X64 sales / fixed assets</th>\n",
       "      <th>Bankruptcy</th>\n",
       "    </tr>\n",
       "  </thead>\n",
       "  <tbody>\n",
       "    <tr>\n",
       "      <th>0</th>\n",
       "      <td>0.20055</td>\n",
       "      <td>0.37951</td>\n",
       "      <td>0.39641</td>\n",
       "      <td>2.0472</td>\n",
       "      <td>32.351</td>\n",
       "      <td>0.38825</td>\n",
       "      <td>0.24976</td>\n",
       "      <td>1.3305</td>\n",
       "      <td>1.1389</td>\n",
       "      <td>0.50494</td>\n",
       "      <td>...</td>\n",
       "      <td>0.121960</td>\n",
       "      <td>0.39718</td>\n",
       "      <td>0.87804</td>\n",
       "      <td>0.001924</td>\n",
       "      <td>8.416</td>\n",
       "      <td>5.1372</td>\n",
       "      <td>82.658</td>\n",
       "      <td>4.4158</td>\n",
       "      <td>7.4277</td>\n",
       "      <td>0</td>\n",
       "    </tr>\n",
       "    <tr>\n",
       "      <th>1</th>\n",
       "      <td>0.20912</td>\n",
       "      <td>0.49988</td>\n",
       "      <td>0.47225</td>\n",
       "      <td>1.9447</td>\n",
       "      <td>14.786</td>\n",
       "      <td>0</td>\n",
       "      <td>0.25834</td>\n",
       "      <td>0.99601</td>\n",
       "      <td>1.6996</td>\n",
       "      <td>0.49788</td>\n",
       "      <td>...</td>\n",
       "      <td>0.121300</td>\n",
       "      <td>0.42002</td>\n",
       "      <td>0.85300</td>\n",
       "      <td>0</td>\n",
       "      <td>4.1486</td>\n",
       "      <td>3.2732</td>\n",
       "      <td>107.350</td>\n",
       "      <td>3.4</td>\n",
       "      <td>60.987</td>\n",
       "      <td>0</td>\n",
       "    </tr>\n",
       "    <tr>\n",
       "      <th>2</th>\n",
       "      <td>0.24866</td>\n",
       "      <td>0.69592</td>\n",
       "      <td>0.26713</td>\n",
       "      <td>1.5548</td>\n",
       "      <td>-1.1523</td>\n",
       "      <td>0</td>\n",
       "      <td>0.30906</td>\n",
       "      <td>0.43695</td>\n",
       "      <td>1.309</td>\n",
       "      <td>0.30408</td>\n",
       "      <td>...</td>\n",
       "      <td>0.241140</td>\n",
       "      <td>0.81774</td>\n",
       "      <td>0.76599</td>\n",
       "      <td>0.69484</td>\n",
       "      <td>4.9909</td>\n",
       "      <td>3.951</td>\n",
       "      <td>134.270</td>\n",
       "      <td>2.7185</td>\n",
       "      <td>5.2078</td>\n",
       "      <td>0</td>\n",
       "    </tr>\n",
       "    <tr>\n",
       "      <th>3</th>\n",
       "      <td>0.081483</td>\n",
       "      <td>0.30734</td>\n",
       "      <td>0.45879</td>\n",
       "      <td>2.4928</td>\n",
       "      <td>51.952</td>\n",
       "      <td>0.14988</td>\n",
       "      <td>0.092704</td>\n",
       "      <td>1.8661</td>\n",
       "      <td>1.0571</td>\n",
       "      <td>0.57353</td>\n",
       "      <td>...</td>\n",
       "      <td>0.054015</td>\n",
       "      <td>0.14207</td>\n",
       "      <td>0.94598</td>\n",
       "      <td>0</td>\n",
       "      <td>4.5746</td>\n",
       "      <td>3.6147</td>\n",
       "      <td>86.435</td>\n",
       "      <td>4.2228</td>\n",
       "      <td>5.5497</td>\n",
       "      <td>0</td>\n",
       "    </tr>\n",
       "    <tr>\n",
       "      <th>4</th>\n",
       "      <td>0.18732</td>\n",
       "      <td>0.61323</td>\n",
       "      <td>0.2296</td>\n",
       "      <td>1.4063</td>\n",
       "      <td>-7.3128</td>\n",
       "      <td>0.18732</td>\n",
       "      <td>0.18732</td>\n",
       "      <td>0.6307</td>\n",
       "      <td>1.1559</td>\n",
       "      <td>0.38677</td>\n",
       "      <td>...</td>\n",
       "      <td>0.134850</td>\n",
       "      <td>0.48431</td>\n",
       "      <td>0.86515</td>\n",
       "      <td>0.12444</td>\n",
       "      <td>6.3985</td>\n",
       "      <td>4.3158</td>\n",
       "      <td>127.210</td>\n",
       "      <td>2.8692</td>\n",
       "      <td>7.898</td>\n",
       "      <td>0</td>\n",
       "    </tr>\n",
       "  </tbody>\n",
       "</table>\n",
       "<p>5 rows × 65 columns</p>\n",
       "</div>"
      ],
      "text/plain": [
       "  X1 net profit / total assets X2 total liabilities / total assets  \\\n",
       "0                      0.20055                             0.37951   \n",
       "1                      0.20912                             0.49988   \n",
       "2                      0.24866                             0.69592   \n",
       "3                     0.081483                             0.30734   \n",
       "4                      0.18732                             0.61323   \n",
       "\n",
       "  X3 working capital / total assets  \\\n",
       "0                           0.39641   \n",
       "1                           0.47225   \n",
       "2                           0.26713   \n",
       "3                           0.45879   \n",
       "4                            0.2296   \n",
       "\n",
       "  X4 current assets / short-term liabilities  \\\n",
       "0                                     2.0472   \n",
       "1                                     1.9447   \n",
       "2                                     1.5548   \n",
       "3                                     2.4928   \n",
       "4                                     1.4063   \n",
       "\n",
       "  X5 [(cash + short-term securities + receivables - short-term liabilities) / (operating expenses - depreciation)] * 365  \\\n",
       "0                                             32.351                                                                       \n",
       "1                                             14.786                                                                       \n",
       "2                                            -1.1523                                                                       \n",
       "3                                             51.952                                                                       \n",
       "4                                            -7.3128                                                                       \n",
       "\n",
       "  X6 retained earnings / total assets X7 EBIT / total assets  \\\n",
       "0                             0.38825                0.24976   \n",
       "1                                   0                0.25834   \n",
       "2                                   0                0.30906   \n",
       "3                             0.14988               0.092704   \n",
       "4                             0.18732                0.18732   \n",
       "\n",
       "  X8 book value of equity / total liabilities X9 sales / total assets  \\\n",
       "0                                      1.3305                  1.1389   \n",
       "1                                     0.99601                  1.6996   \n",
       "2                                     0.43695                   1.309   \n",
       "3                                      1.8661                  1.0571   \n",
       "4                                      0.6307                  1.1559   \n",
       "\n",
       "  X10 equity / total assets     ...      \\\n",
       "0                   0.50494     ...       \n",
       "1                   0.49788     ...       \n",
       "2                   0.30408     ...       \n",
       "3                   0.57353     ...       \n",
       "4                   0.38677     ...       \n",
       "\n",
       "  X56 (sales - cost of products sold) / sales  \\\n",
       "0                                    0.121960   \n",
       "1                                    0.121300   \n",
       "2                                    0.241140   \n",
       "3                                    0.054015   \n",
       "4                                    0.134850   \n",
       "\n",
       "  X57 (current assets - inventory - short-term liabilities) / (sales - gross profit - depreciation)  \\\n",
       "0                                            0.39718                                                  \n",
       "1                                            0.42002                                                  \n",
       "2                                            0.81774                                                  \n",
       "3                                            0.14207                                                  \n",
       "4                                            0.48431                                                  \n",
       "\n",
       "   X58 total costs /total sales X59 long-term liabilities / equity  \\\n",
       "0                       0.87804                           0.001924   \n",
       "1                       0.85300                                  0   \n",
       "2                       0.76599                            0.69484   \n",
       "3                       0.94598                                  0   \n",
       "4                       0.86515                            0.12444   \n",
       "\n",
       "  X60 sales / inventory X61 sales / receivables  \\\n",
       "0                 8.416                  5.1372   \n",
       "1                4.1486                  3.2732   \n",
       "2                4.9909                   3.951   \n",
       "3                4.5746                  3.6147   \n",
       "4                6.3985                  4.3158   \n",
       "\n",
       "  X62 (short-term liabilities *365) / sales  \\\n",
       "0                                    82.658   \n",
       "1                                   107.350   \n",
       "2                                   134.270   \n",
       "3                                    86.435   \n",
       "4                                   127.210   \n",
       "\n",
       "  X63 sales / short-term liabilities  X64 sales / fixed assets  Bankruptcy  \n",
       "0                             4.4158                    7.4277           0  \n",
       "1                                3.4                    60.987           0  \n",
       "2                             2.7185                    5.2078           0  \n",
       "3                             4.2228                    5.5497           0  \n",
       "4                             2.8692                     7.898           0  \n",
       "\n",
       "[5 rows x 65 columns]"
      ]
     },
     "execution_count": 2,
     "metadata": {},
     "output_type": "execute_result"
    }
   ],
   "source": [
    "#we use year 1 of a dataset of 7000 records of bankruptcy data of Polish companies\n",
    "#we open the file, build the dataframe and have a look at the records\n",
    "\n",
    "df = pd.read_csv('polish_cies_bankruptcy_10krecords.csv')\n",
    "df.head()"
   ]
  },
  {
   "cell_type": "code",
   "execution_count": 3,
   "metadata": {},
   "outputs": [],
   "source": [
    "#we get rid of null values\n",
    "df.replace('?', -9999, inplace=True)"
   ]
  },
  {
   "cell_type": "code",
   "execution_count": 4,
   "metadata": {},
   "outputs": [
    {
     "data": {
      "text/html": [
       "<div>\n",
       "<style scoped>\n",
       "    .dataframe tbody tr th:only-of-type {\n",
       "        vertical-align: middle;\n",
       "    }\n",
       "\n",
       "    .dataframe tbody tr th {\n",
       "        vertical-align: top;\n",
       "    }\n",
       "\n",
       "    .dataframe thead th {\n",
       "        text-align: right;\n",
       "    }\n",
       "</style>\n",
       "<table border=\"1\" class=\"dataframe\">\n",
       "  <thead>\n",
       "    <tr style=\"text-align: right;\">\n",
       "      <th></th>\n",
       "      <th>X13 (gross profit + depreciation) / sales</th>\n",
       "      <th>X19 gross profit / sales</th>\n",
       "      <th>X20 (inventory * 365) / sales</th>\n",
       "      <th>X23 net profit / sales</th>\n",
       "      <th>X30 (total liabilities - cash) / sales</th>\n",
       "      <th>X31 (gross profit + interest) / sales</th>\n",
       "      <th>X39 profit on sales / sales</th>\n",
       "      <th>X42 profit on operating activities / sales</th>\n",
       "      <th>X43 rotation receivables + inventory turnover in days</th>\n",
       "      <th>X44 (receivables * 365) / sales</th>\n",
       "      <th>X49 EBITDA (profit on operating activities - depreciation) / sales</th>\n",
       "      <th>X55 working capital</th>\n",
       "      <th>X56 (sales - cost of products sold) / sales</th>\n",
       "      <th>X58 total costs /total sales</th>\n",
       "      <th>X62 (short-term liabilities *365) / sales</th>\n",
       "      <th>Bankruptcy</th>\n",
       "    </tr>\n",
       "  </thead>\n",
       "  <tbody>\n",
       "    <tr>\n",
       "      <th>count</th>\n",
       "      <td>7027.000000</td>\n",
       "      <td>7027.000000</td>\n",
       "      <td>7.027000e+03</td>\n",
       "      <td>7027.000000</td>\n",
       "      <td>7027.000000</td>\n",
       "      <td>7027.000000</td>\n",
       "      <td>7027.000000</td>\n",
       "      <td>7027.000000</td>\n",
       "      <td>7.027000e+03</td>\n",
       "      <td>7.027000e+03</td>\n",
       "      <td>7027.000000</td>\n",
       "      <td>7.027000e+03</td>\n",
       "      <td>7.027000e+03</td>\n",
       "      <td>7.027000e+03</td>\n",
       "      <td>7.027000e+03</td>\n",
       "      <td>7027.000000</td>\n",
       "    </tr>\n",
       "    <tr>\n",
       "      <th>mean</th>\n",
       "      <td>2.093345</td>\n",
       "      <td>0.462392</td>\n",
       "      <td>1.162128e+03</td>\n",
       "      <td>0.423610</td>\n",
       "      <td>23.568949</td>\n",
       "      <td>0.473717</td>\n",
       "      <td>0.269342</td>\n",
       "      <td>0.263638</td>\n",
       "      <td>4.588504e+03</td>\n",
       "      <td>3.426404e+03</td>\n",
       "      <td>-1.367363</td>\n",
       "      <td>8.855693e+03</td>\n",
       "      <td>-1.577367e+02</td>\n",
       "      <td>1.587409e+02</td>\n",
       "      <td>4.763202e+03</td>\n",
       "      <td>0.038566</td>\n",
       "    </tr>\n",
       "    <tr>\n",
       "      <th>std</th>\n",
       "      <td>159.699448</td>\n",
       "      <td>30.646874</td>\n",
       "      <td>9.315822e+04</td>\n",
       "      <td>29.742101</td>\n",
       "      <td>1826.847970</td>\n",
       "      <td>30.647711</td>\n",
       "      <td>27.064231</td>\n",
       "      <td>27.071123</td>\n",
       "      <td>3.627309e+05</td>\n",
       "      <td>2.696211e+05</td>\n",
       "      <td>107.717867</td>\n",
       "      <td>7.247527e+04</td>\n",
       "      <td>1.322125e+04</td>\n",
       "      <td>1.322124e+04</td>\n",
       "      <td>3.107835e+05</td>\n",
       "      <td>0.192571</td>\n",
       "    </tr>\n",
       "    <tr>\n",
       "      <th>min</th>\n",
       "      <td>-607.420000</td>\n",
       "      <td>-622.060000</td>\n",
       "      <td>0.000000e+00</td>\n",
       "      <td>-634.590000</td>\n",
       "      <td>-149.070000</td>\n",
       "      <td>-622.060000</td>\n",
       "      <td>-701.630000</td>\n",
       "      <td>-701.630000</td>\n",
       "      <td>0.000000e+00</td>\n",
       "      <td>0.000000e+00</td>\n",
       "      <td>-9001.000000</td>\n",
       "      <td>-8.004700e+05</td>\n",
       "      <td>-1.108300e+06</td>\n",
       "      <td>-4.194000e-03</td>\n",
       "      <td>0.000000e+00</td>\n",
       "      <td>0.000000</td>\n",
       "    </tr>\n",
       "    <tr>\n",
       "      <th>25%</th>\n",
       "      <td>0.038073</td>\n",
       "      <td>0.014812</td>\n",
       "      <td>1.708300e+01</td>\n",
       "      <td>0.011253</td>\n",
       "      <td>0.094681</td>\n",
       "      <td>0.019233</td>\n",
       "      <td>0.012786</td>\n",
       "      <td>0.011541</td>\n",
       "      <td>6.525600e+01</td>\n",
       "      <td>3.387300e+01</td>\n",
       "      <td>-0.009992</td>\n",
       "      <td>9.712000e+01</td>\n",
       "      <td>2.031450e-02</td>\n",
       "      <td>8.647650e-01</td>\n",
       "      <td>4.322250e+01</td>\n",
       "      <td>0.000000</td>\n",
       "    </tr>\n",
       "    <tr>\n",
       "      <th>50%</th>\n",
       "      <td>0.080830</td>\n",
       "      <td>0.049966</td>\n",
       "      <td>3.561200e+01</td>\n",
       "      <td>0.042097</td>\n",
       "      <td>0.207130</td>\n",
       "      <td>0.056637</td>\n",
       "      <td>0.046948</td>\n",
       "      <td>0.047783</td>\n",
       "      <td>9.461200e+01</td>\n",
       "      <td>5.180000e+01</td>\n",
       "      <td>0.022759</td>\n",
       "      <td>1.604800e+03</td>\n",
       "      <td>6.338200e-02</td>\n",
       "      <td>9.388100e-01</td>\n",
       "      <td>6.850900e+01</td>\n",
       "      <td>0.000000</td>\n",
       "    </tr>\n",
       "    <tr>\n",
       "      <th>75%</th>\n",
       "      <td>0.144955</td>\n",
       "      <td>0.104500</td>\n",
       "      <td>6.070100e+01</td>\n",
       "      <td>0.088313</td>\n",
       "      <td>0.365635</td>\n",
       "      <td>0.114970</td>\n",
       "      <td>0.103375</td>\n",
       "      <td>0.102165</td>\n",
       "      <td>1.304150e+02</td>\n",
       "      <td>7.550250e+01</td>\n",
       "      <td>0.075465</td>\n",
       "      <td>5.955900e+03</td>\n",
       "      <td>1.376950e-01</td>\n",
       "      <td>9.820150e-01</td>\n",
       "      <td>1.063350e+02</td>\n",
       "      <td>0.000000</td>\n",
       "    </tr>\n",
       "    <tr>\n",
       "      <th>max</th>\n",
       "      <td>13315.000000</td>\n",
       "      <td>2156.800000</td>\n",
       "      <td>7.809200e+06</td>\n",
       "      <td>2156.800000</td>\n",
       "      <td>152860.000000</td>\n",
       "      <td>2156.800000</td>\n",
       "      <td>2156.500000</td>\n",
       "      <td>2156.800000</td>\n",
       "      <td>3.039300e+07</td>\n",
       "      <td>2.258400e+07</td>\n",
       "      <td>31.639000</td>\n",
       "      <td>4.398400e+06</td>\n",
       "      <td>1.000000e+00</td>\n",
       "      <td>1.108300e+06</td>\n",
       "      <td>2.501600e+07</td>\n",
       "      <td>1.000000</td>\n",
       "    </tr>\n",
       "  </tbody>\n",
       "</table>\n",
       "</div>"
      ],
      "text/plain": [
       "       X13 (gross profit + depreciation) / sales  X19 gross profit / sales  \\\n",
       "count                                7027.000000               7027.000000   \n",
       "mean                                    2.093345                  0.462392   \n",
       "std                                   159.699448                 30.646874   \n",
       "min                                  -607.420000               -622.060000   \n",
       "25%                                     0.038073                  0.014812   \n",
       "50%                                     0.080830                  0.049966   \n",
       "75%                                     0.144955                  0.104500   \n",
       "max                                 13315.000000               2156.800000   \n",
       "\n",
       "       X20 (inventory * 365) / sales  X23 net profit / sales  \\\n",
       "count                   7.027000e+03             7027.000000   \n",
       "mean                    1.162128e+03                0.423610   \n",
       "std                     9.315822e+04               29.742101   \n",
       "min                     0.000000e+00             -634.590000   \n",
       "25%                     1.708300e+01                0.011253   \n",
       "50%                     3.561200e+01                0.042097   \n",
       "75%                     6.070100e+01                0.088313   \n",
       "max                     7.809200e+06             2156.800000   \n",
       "\n",
       "       X30 (total liabilities - cash) / sales  \\\n",
       "count                             7027.000000   \n",
       "mean                                23.568949   \n",
       "std                               1826.847970   \n",
       "min                               -149.070000   \n",
       "25%                                  0.094681   \n",
       "50%                                  0.207130   \n",
       "75%                                  0.365635   \n",
       "max                             152860.000000   \n",
       "\n",
       "       X31 (gross profit + interest) / sales  X39 profit on sales / sales  \\\n",
       "count                            7027.000000                  7027.000000   \n",
       "mean                                0.473717                     0.269342   \n",
       "std                                30.647711                    27.064231   \n",
       "min                              -622.060000                  -701.630000   \n",
       "25%                                 0.019233                     0.012786   \n",
       "50%                                 0.056637                     0.046948   \n",
       "75%                                 0.114970                     0.103375   \n",
       "max                              2156.800000                  2156.500000   \n",
       "\n",
       "       X42 profit on operating activities / sales  \\\n",
       "count                                 7027.000000   \n",
       "mean                                     0.263638   \n",
       "std                                     27.071123   \n",
       "min                                   -701.630000   \n",
       "25%                                      0.011541   \n",
       "50%                                      0.047783   \n",
       "75%                                      0.102165   \n",
       "max                                   2156.800000   \n",
       "\n",
       "       X43 rotation receivables + inventory turnover in days  \\\n",
       "count                                       7.027000e+03       \n",
       "mean                                        4.588504e+03       \n",
       "std                                         3.627309e+05       \n",
       "min                                         0.000000e+00       \n",
       "25%                                         6.525600e+01       \n",
       "50%                                         9.461200e+01       \n",
       "75%                                         1.304150e+02       \n",
       "max                                         3.039300e+07       \n",
       "\n",
       "       X44 (receivables * 365) / sales  \\\n",
       "count                     7.027000e+03   \n",
       "mean                      3.426404e+03   \n",
       "std                       2.696211e+05   \n",
       "min                       0.000000e+00   \n",
       "25%                       3.387300e+01   \n",
       "50%                       5.180000e+01   \n",
       "75%                       7.550250e+01   \n",
       "max                       2.258400e+07   \n",
       "\n",
       "       X49 EBITDA (profit on operating activities - depreciation) / sales  \\\n",
       "count                                        7027.000000                    \n",
       "mean                                           -1.367363                    \n",
       "std                                           107.717867                    \n",
       "min                                         -9001.000000                    \n",
       "25%                                            -0.009992                    \n",
       "50%                                             0.022759                    \n",
       "75%                                             0.075465                    \n",
       "max                                            31.639000                    \n",
       "\n",
       "       X55 working capital  X56 (sales - cost of products sold) / sales  \\\n",
       "count         7.027000e+03                                 7.027000e+03   \n",
       "mean          8.855693e+03                                -1.577367e+02   \n",
       "std           7.247527e+04                                 1.322125e+04   \n",
       "min          -8.004700e+05                                -1.108300e+06   \n",
       "25%           9.712000e+01                                 2.031450e-02   \n",
       "50%           1.604800e+03                                 6.338200e-02   \n",
       "75%           5.955900e+03                                 1.376950e-01   \n",
       "max           4.398400e+06                                 1.000000e+00   \n",
       "\n",
       "       X58 total costs /total sales  \\\n",
       "count                  7.027000e+03   \n",
       "mean                   1.587409e+02   \n",
       "std                    1.322124e+04   \n",
       "min                   -4.194000e-03   \n",
       "25%                    8.647650e-01   \n",
       "50%                    9.388100e-01   \n",
       "75%                    9.820150e-01   \n",
       "max                    1.108300e+06   \n",
       "\n",
       "       X62 (short-term liabilities *365) / sales   Bankruptcy  \n",
       "count                               7.027000e+03  7027.000000  \n",
       "mean                                4.763202e+03     0.038566  \n",
       "std                                 3.107835e+05     0.192571  \n",
       "min                                 0.000000e+00     0.000000  \n",
       "25%                                 4.322250e+01     0.000000  \n",
       "50%                                 6.850900e+01     0.000000  \n",
       "75%                                 1.063350e+02     0.000000  \n",
       "max                                 2.501600e+07     1.000000  "
      ]
     },
     "execution_count": 4,
     "metadata": {},
     "output_type": "execute_result"
    }
   ],
   "source": [
    "#and explore the dataset further\n",
    "df.describe()"
   ]
  },
  {
   "cell_type": "code",
   "execution_count": 5,
   "metadata": {},
   "outputs": [
    {
     "data": {
      "text/plain": [
       "(7027, 65)"
      ]
     },
     "execution_count": 5,
     "metadata": {},
     "output_type": "execute_result"
    }
   ],
   "source": [
    "df.shape"
   ]
  },
  {
   "cell_type": "code",
   "execution_count": 27,
   "metadata": {},
   "outputs": [
    {
     "data": {
      "image/png": "[encoded data removed]",
      "text/plain": [
       "<Figure size 432x288 with 2 Axes>"
      ]
     },
     "metadata": {},
     "output_type": "display_data"
    }
   ],
   "source": [
    "#Open graph modules to build corr matrix\n",
    "import matplotlib.pyplot as plt\n",
    "%matplotlib inline\n",
    "import seaborn as sns\n",
    "\n",
    "corrmat = df.corr()\n",
    "sns.heatmap(corrmat, vmax = .8, square = True, annot = True, fmt = '.2f')\n",
    "plt.show()"
   ]
  },
  {
   "cell_type": "markdown",
   "metadata": {},
   "source": [
    "## Predicting the future from past information"
   ]
  },
  {
   "cell_type": "markdown",
   "metadata": {},
   "source": [
    "# Using the neighbors algorithm from KNeighborsClassifier"
   ]
  },
  {
   "cell_type": "code",
   "execution_count": 6,
   "metadata": {},
   "outputs": [],
   "source": [
    "#import appropriate machine learning packages to work with the data\n",
    "\n",
    "from sklearn import preprocessing, neighbors, model_selection\n",
    "from sklearn.model_selection import train_test_split\n",
    "from sklearn.neighbors import KNeighborsClassifier\n",
    "from sklearn.model_selection import cross_val_score"
   ]
  },
  {
   "cell_type": "code",
   "execution_count": 7,
   "metadata": {},
   "outputs": [],
   "source": [
    "#we implement the predictive model\n",
    "\n",
    "X = np.array(df.drop(['Bankruptcy'], 1))\n",
    "y = np.array(df['Bankruptcy'])"
   ]
  },
  {
   "cell_type": "code",
   "execution_count": 8,
   "metadata": {},
   "outputs": [
    {
     "data": {
      "text/plain": [
       "KNeighborsClassifier(algorithm='auto', leaf_size=10, metric='minkowski',\n",
       "           metric_params=None, n_jobs=1, n_neighbors=5, p=2,\n",
       "           weights='uniform')"
      ]
     },
     "execution_count": 8,
     "metadata": {},
     "output_type": "execute_result"
    }
   ],
   "source": [
    "#we implement train_test_split\n",
    "X_train, X_test, y_train, y_test = model_selection.train_test_split(X, y, test_size = 0.2)\n",
    "\n",
    "#instantiate the classifier\n",
    "clf = neighbors.KNeighborsClassifier(leaf_size = 10)\n",
    "\n",
    "#fit the data to the model\n",
    "clf.fit(X_train, y_train)"
   ]
  },
  {
   "cell_type": "code",
   "execution_count": 9,
   "metadata": {},
   "outputs": [
    {
     "data": {
      "text/plain": [
       "0.9637268847795164"
      ]
     },
     "execution_count": 9,
     "metadata": {},
     "output_type": "execute_result"
    }
   ],
   "source": [
    "accuracy = clf.score(X_test, y_test)\n",
    "accuracy"
   ]
  },
  {
   "cell_type": "code",
   "execution_count": 10,
   "metadata": {},
   "outputs": [
    {
     "name": "stdout",
     "output_type": "stream",
     "text": [
      "1 0.9679943100995733\n",
      "2 0.9701280227596017\n",
      "3 0.9694167852062588\n",
      "4 0.9658605974395448\n",
      "5 0.9630156472261735\n",
      "6 0.9665718349928877\n",
      "7 0.9637268847795164\n",
      "8 0.9679943100995733\n",
      "9 0.9665718349928877\n"
     ]
    }
   ],
   "source": [
    "#now we make a loop to try different values for \"leaf_size\" parameter\n",
    "lf_range = list(range(1,10))\n",
    "lf_scores = []\n",
    "for lf in lf_range:\n",
    "    X_train, X_test, y_train, y_test = model_selection.train_test_split(X, y, test_size = 0.2)\n",
    "    clf = neighbors.KNeighborsClassifier(leaf_size = lf)\n",
    "    clf.fit(X_train, y_train)\n",
    "    accuracy = clf.score(X_test, y_test)\n",
    "    lf_scores.append(accuracy.mean())\n",
    "    print(lf, accuracy)   \n"
   ]
  },
  {
   "cell_type": "code",
   "execution_count": 11,
   "metadata": {},
   "outputs": [
    {
     "name": "stdout",
     "output_type": "stream",
     "text": [
      "1\n"
     ]
    },
    {
     "data": {
      "text/plain": [
       "[<matplotlib.lines.Line2D at 0x1dc9a78dba8>]"
      ]
     },
     "execution_count": 11,
     "metadata": {},
     "output_type": "execute_result"
    },
    {
     "data": {
      "image/png": "[encoded data removed]",
      "text/plain": [
       "<Figure size 432x288 with 1 Axes>"
      ]
     },
     "metadata": {},
     "output_type": "display_data"
    }
   ],
   "source": [
    "#which index has the max score?\n",
    "print(lf_scores.index(max(lf_scores)))\n",
    "\n",
    "#...and we plot results\n",
    "plt.plot(lf_range, lf_scores)\n"
   ]
  },
  {
   "cell_type": "code",
   "execution_count": 12,
   "metadata": {},
   "outputs": [
    {
     "data": {
      "text/plain": [
       "0.9566145092460882"
      ]
     },
     "execution_count": 12,
     "metadata": {},
     "output_type": "execute_result"
    }
   ],
   "source": [
    "#set up train test split\n",
    "X_train, X_test, y_train, y_test = model_selection.train_test_split(X, y, test_size = 0.2)\n",
    "\n",
    "#instantiate the classifier\n",
    "clf = neighbors.KNeighborsClassifier(leaf_size = 6)\n",
    "\n",
    "#fit the data to the model\n",
    "clf.fit(X_train, y_train)\n",
    "\n",
    "accuracy = clf.score(X_test, y_test)\n",
    "accuracy"
   ]
  },
  {
   "cell_type": "markdown",
   "metadata": {},
   "source": [
    "# In search of better accuracy, we apply a different model to the data, this time we use a KNN model"
   ]
  },
  {
   "cell_type": "code",
   "execution_count": 13,
   "metadata": {},
   "outputs": [
    {
     "data": {
      "text/plain": [
       "0.9715504978662873"
      ]
     },
     "execution_count": 13,
     "metadata": {},
     "output_type": "execute_result"
    }
   ],
   "source": [
    "knn = KNeighborsClassifier()\n",
    "scores = cross_val_score(knn, X, y, cv = 10, scoring = 'accuracy')\n",
    "scores\n",
    "\n",
    "scores.max()"
   ]
  },
  {
   "cell_type": "code",
   "execution_count": 14,
   "metadata": {},
   "outputs": [
    {
     "data": {
      "text/plain": [
       "0.9665604703433652"
      ]
     },
     "execution_count": 14,
     "metadata": {},
     "output_type": "execute_result"
    }
   ],
   "source": [
    "#however, to gauge the precision of our model in out-of-sample data, it's better to calculate the man\n",
    "scores.mean()"
   ]
  },
  {
   "cell_type": "code",
   "execution_count": 15,
   "metadata": {},
   "outputs": [
    {
     "name": "stdout",
     "output_type": "stream",
     "text": [
      "[0.95596591 0.95732575 0.96728307 0.9658606  0.96870555 0.96443812\n",
      " 0.96581197 0.96723647 0.96866097 0.96866097]\n"
     ]
    }
   ],
   "source": [
    "#Now we search for an optimal value of K for KNN, trying with a different number of neighbors\n",
    "k_range = list(range(1, 10))\n",
    "k_scores = []\n",
    "for k in k_range:\n",
    "    knn = KNeighborsClassifier(n_neighbors = k)\n",
    "    scores = cross_val_score(knn, X, y, cv = 10, scoring = 'accuracy')\n",
    "    k_scores.append(scores.mean())\n",
    "print(scores)"
   ]
  },
  {
   "cell_type": "code",
   "execution_count": 16,
   "metadata": {},
   "outputs": [
    {
     "data": {
      "text/plain": [
       "[<matplotlib.lines.Line2D at 0x1dc9650f8d0>]"
      ]
     },
     "execution_count": 16,
     "metadata": {},
     "output_type": "execute_result"
    },
    {
     "data": {
      "image/png": "[encoded data removed]",
      "text/plain": [
       "<Figure size 432x288 with 1 Axes>"
      ]
     },
     "metadata": {},
     "output_type": "display_data"
    }
   ],
   "source": [
    "plt.plot(k_range, k_scores)\n"
   ]
  },
  {
   "cell_type": "code",
   "execution_count": 17,
   "metadata": {},
   "outputs": [
    {
     "data": {
      "text/plain": [
       "0.968705547652916"
      ]
     },
     "execution_count": 17,
     "metadata": {},
     "output_type": "execute_result"
    }
   ],
   "source": [
    "#This is the max value achieved with KNN, varying the number of neighbors\n",
    "np.amax(scores)"
   ]
  },
  {
   "cell_type": "code",
   "execution_count": 18,
   "metadata": {},
   "outputs": [
    {
     "data": {
      "text/plain": [
       "0.964994936623226"
      ]
     },
     "execution_count": 18,
     "metadata": {},
     "output_type": "execute_result"
    }
   ],
   "source": [
    "np.mean(scores)"
   ]
  },
  {
   "cell_type": "markdown",
   "metadata": {},
   "source": [
    "#### Testing the model by feeding data from an imaginary company"
   ]
  },
  {
   "cell_type": "code",
   "execution_count": 19,
   "metadata": {},
   "outputs": [
    {
     "data": {
      "text/plain": [
       "array([0], dtype=int64)"
      ]
     },
     "execution_count": 19,
     "metadata": {},
     "output_type": "execute_result"
    }
   ],
   "source": [
    "example_data = np.array([[0.20055,0.37951,0.39641,2.0472,32.351,0.38825,0.24976,1.3305,1.1389,0.50494,0.24976,0.6598,0.1666,0.24976,497.42,0.73378,2.6349,0.24976,0.14942,43.37,1.2479,0.21402,0.11998,0.47706,0.50494,0.60411,1.4582,1.7615,5.9443,0.11788,0.14942,94.14,3.8772,0.56393,0.21402,1.741,593.27,0.50591,0.12804,0.66295,0.051402,0.12804,114.42,71.05,1.0097,1.5225,49.394,0.1853,0.11085,2.042,0.37854,0.25792,2.2437,2.248,348690,0.12196,0.39718,0.87804,0.001924,8.416,5.1372,82.658,4.4158,7.4277]])\n",
    "example_data = example_data.reshape(len(example_data), -1)\n",
    "clf.predict(example_data)"
   ]
  },
  {
   "cell_type": "code",
   "execution_count": null,
   "metadata": {},
   "outputs": [],
   "source": []
  },
  {
   "cell_type": "markdown",
   "metadata": {},
   "source": [
    "# Now we use a Linear Regression model and compare the first 4 results with the results in our dataset"
   ]
  },
  {
   "cell_type": "code",
   "execution_count": 20,
   "metadata": {},
   "outputs": [
    {
     "data": {
      "text/plain": [
       "LinearRegression(copy_X=True, fit_intercept=True, n_jobs=1, normalize=False)"
      ]
     },
     "execution_count": 20,
     "metadata": {},
     "output_type": "execute_result"
    }
   ],
   "source": [
    "from sklearn import linear_model\n",
    "reg = linear_model.LinearRegression()\n",
    "X_train, X_test, y_train, y_test = model_selection.train_test_split(X, y, test_size = 0.2, random_state = 4)\n",
    "reg.fit(X_train, y_train)\n"
   ]
  },
  {
   "cell_type": "code",
   "execution_count": 21,
   "metadata": {},
   "outputs": [],
   "source": [
    "pred = reg.predict(X_test)"
   ]
  },
  {
   "cell_type": "code",
   "execution_count": 22,
   "metadata": {},
   "outputs": [
    {
     "name": "stdout",
     "output_type": "stream",
     "text": [
      "0.05000841778687243 0.023329109084388733 0.02827129152125235 0.03636027474340392\n",
      "[0 0 0 ... 0 0 0]\n"
     ]
    }
   ],
   "source": [
    "#Now we compare the prediction for the first 4 predicted values with the actual values on the test table\n",
    "print(pred[0], pred[1], pred[2], pred[3])\n",
    "print(y_test)"
   ]
  },
  {
   "cell_type": "markdown",
   "metadata": {},
   "source": [
    "# Now we use a Logistic Regression model and find out its score with default parameters"
   ]
  },
  {
   "cell_type": "code",
   "execution_count": 26,
   "metadata": {},
   "outputs": [
    {
     "name": "stdout",
     "output_type": "stream",
     "text": [
      "0.9637113988899957\n"
     ]
    }
   ],
   "source": [
    "from sklearn.linear_model import LogisticRegression\n",
    "#instantiate the model (using the default parameters)\n",
    "logreg = LogisticRegression()\n",
    "\n",
    "#fit the model with data\n",
    "logreg.fit(X,y)\n",
    "\n",
    "#predict the response values for the observations in X\n",
    "logreg.predict(X)\n",
    "\n",
    "#store the predicted values\n",
    "y_pred = logreg.predict(X)\n",
    "\n",
    "#we check how many predictions were generated\n",
    "len(y_pred)\n",
    "\n",
    "#compute classification accuracy for the logistic regression model\n",
    "from sklearn import metrics\n",
    "print(metrics.accuracy_score(y, y_pred))"
   ]
  },
  {
   "cell_type": "code",
   "execution_count": null,
   "metadata": {},
   "outputs": [],
   "source": []
  },
  {
   "cell_type": "markdown",
   "metadata": {},
   "source": [
    "# Now we use a Decision Tree model"
   ]
  },
  {
   "cell_type": "code",
   "execution_count": 29,
   "metadata": {},
   "outputs": [
    {
     "data": {
      "text/plain": [
       "DecisionTreeClassifier(class_weight=None, criterion='gini', max_depth=5,\n",
       "            max_features=None, max_leaf_nodes=None,\n",
       "            min_impurity_decrease=0.0, min_impurity_split=None,\n",
       "            min_samples_leaf=1, min_samples_split=2,\n",
       "            min_weight_fraction_leaf=0.0, presort=False, random_state=None,\n",
       "            splitter='best')"
      ]
     },
     "execution_count": 29,
     "metadata": {},
     "output_type": "execute_result"
    }
   ],
   "source": [
    "from sklearn.tree import DecisionTreeClassifier\n",
    "clf = DecisionTreeClassifier(max_depth = 5)\n",
    "clf"
   ]
  },
  {
   "cell_type": "code",
   "execution_count": 30,
   "metadata": {},
   "outputs": [
    {
     "data": {
      "text/plain": [
       "0.9758179231863442"
      ]
     },
     "execution_count": 30,
     "metadata": {},
     "output_type": "execute_result"
    }
   ],
   "source": [
    "clf.fit(X_train, y_train)\n",
    "score = clf.score(X_test, y_test)\n",
    "score"
   ]
  },
  {
   "cell_type": "markdown",
   "metadata": {},
   "source": [
    "# Now we use a Random Forest model with some random parameters"
   ]
  },
  {
   "cell_type": "code",
   "execution_count": 37,
   "metadata": {},
   "outputs": [
    {
     "data": {
      "text/plain": [
       "RandomForestClassifier(bootstrap=True, class_weight=None, criterion='gini',\n",
       "            max_depth=50, max_features='auto', max_leaf_nodes=None,\n",
       "            min_impurity_decrease=0.0, min_impurity_split=None,\n",
       "            min_samples_leaf=1, min_samples_split=2,\n",
       "            min_weight_fraction_leaf=0.0, n_estimators=30, n_jobs=1,\n",
       "            oob_score=False, random_state=15, verbose=0, warm_start=False)"
      ]
     },
     "execution_count": 37,
     "metadata": {},
     "output_type": "execute_result"
    }
   ],
   "source": [
    "from sklearn.ensemble import RandomForestClassifier\n",
    "clf = RandomForestClassifier(n_estimators = 30, max_depth = 50, random_state = 15)\n",
    "clf"
   ]
  },
  {
   "cell_type": "code",
   "execution_count": 38,
   "metadata": {},
   "outputs": [
    {
     "data": {
      "text/plain": [
       "0.9743954480796586"
      ]
     },
     "execution_count": 38,
     "metadata": {},
     "output_type": "execute_result"
    }
   ],
   "source": [
    "clf.fit(X_train, y_train)\n",
    "score = clf.score(X_test, y_test)\n",
    "score"
   ]
  },
  {
   "cell_type": "markdown",
   "metadata": {},
   "source": [
    "# Now we use a SVM model "
   ]
  },
  {
   "cell_type": "code",
   "execution_count": 39,
   "metadata": {},
   "outputs": [
    {
     "data": {
      "text/plain": [
       "0.9580369843527738"
      ]
     },
     "execution_count": 39,
     "metadata": {},
     "output_type": "execute_result"
    }
   ],
   "source": [
    "from sklearn.svm import SVC\n",
    "clf = SVC()\n",
    "clf.fit(X_train, y_train)\n",
    "score = clf.score(X_test, y_test)\n",
    "score"
   ]
  }
 ],
 "metadata": {
  "kernelspec": {
   "display_name": "Python 3",
   "language": "python",
   "name": "python3"
  },
  "language_info": {
   "codemirror_mode": {
    "name": "ipython",
    "version": 3
   },
   "file_extension": ".py",
   "mimetype": "text/x-python",
   "name": "python",
   "nbconvert_exporter": "python",
   "pygments_lexer": "ipython3",
   "version": "3.6.5"
  }
 },
 "nbformat": 4,
 "nbformat_minor": 2
}
